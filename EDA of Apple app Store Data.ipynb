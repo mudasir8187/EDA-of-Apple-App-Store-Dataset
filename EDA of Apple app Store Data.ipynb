{
 "cells": [
  {
   "cell_type": "markdown",
   "metadata": {},
   "source": [
    "<img src=\"resources/Apple app Store.jpg\" alt=\"apple store picture\" width=\"900\" height=\"400\">"
   ]
  },
  {
   "cell_type": "markdown",
   "metadata": {},
   "source": [
    "# **Apple AppStore Data Exploration**\n",
    "**Complete Exploratory Data Analysis**\\\n",
    "Author : Mudasir Ali\\\n",
    "Dated : Feburary 2024\\\n",
    "Email : chmudasir9990@gmail.com"
   ]
  },
  {
   "cell_type": "markdown",
   "metadata": {},
   "source": [
    "## **About Dataset**\n",
    "Apple AppStore Android App Data (1.2 Million+ App Data) collected by the GAUTHAM PRAKASH in October 2021. Dataset collected with the help of Python script (Scrapy) running on a cluster of cloud vm instances. Dataset downloaded from (https://www.kaggle.com/datasets/gauthamp10/apple-appstore-apps/data)\n"
   ]
  },
  {
   "cell_type": "markdown",
   "metadata": {},
   "source": [
    "# **Objective:**\n",
    "The aim is to conduct Exploratory Data Analysis (EDA) to carefully examine the data for identifying patterns and extracting insights from it.\n"
   ]
  },
  {
   "cell_type": "markdown",
   "metadata": {},
   "source": [
    "# **Tasks:**\n",
    "1. Import necessary libraries.\n",
    "2. Load the dataset.\n",
    "3. Analyze and understand the dataset (spot anomalies, relationships, missing values, etc.).\n",
    "4. Clean the data by addressing anomalies such as missing values.\n",
    "5. Conduct feature engineering.\n",
    "6. Extract insights from the data using various techniques.\n"
   ]
  },
  {
   "cell_type": "markdown",
   "metadata": {},
   "source": [
    "# 1. **Import following libraries**\n",
    " - Panadas\n",
    " - Numpy\n",
    " - Matplotlib\n",
    " - Seaborn\n",
    " - Scipy\n",
    " - scikit learn"
   ]
  },
  {
   "cell_type": "code",
   "execution_count": 1,
   "metadata": {},
   "outputs": [],
   "source": [
    "# Importing  the required  modules\n",
    "import pandas as pd\n",
    "import numpy as np\n",
    "import matplotlib.pyplot as plt \n",
    "import seaborn as sns\n",
    "import sklearn\n",
    "import scipy"
   ]
  },
  {
   "cell_type": "markdown",
   "metadata": {},
   "source": [
    "Note: If you haven't installed these modules yet, please install them first using the following command (for Windows users). Mac users, please search for the relevant commands to install these modules.\n",
    "\n",
    "**Command : pip install pandas numpy matplotlib seaborn scikit-learn scipy**"
   ]
  },
  {
   "cell_type": "markdown",
   "metadata": {},
   "source": [
    "# 2. **Load the Dataset**"
   ]
  },
  {
   "cell_type": "code",
   "execution_count": 2,
   "metadata": {},
   "outputs": [],
   "source": [
    "df = pd.read_csv('DataSets/appleAppData.csv')\n",
    "# df = pd.read_csv('/kaggle/input/apple-appstore-apps/appleAppData.csv') # If you haven't already downloaded the dataset from Kaggle to your computer, use this line of code."
   ]
  },
  {
   "cell_type": "markdown",
   "metadata": {},
   "source": [
    "# 3. **Analyze the Data**"
   ]
  },
  {
   "cell_type": "code",
   "execution_count": 3,
   "metadata": {},
   "outputs": [
    {
     "data": {
      "text/html": [
       "<div>\n",
       "<style scoped>\n",
       "    .dataframe tbody tr th:only-of-type {\n",
       "        vertical-align: middle;\n",
       "    }\n",
       "\n",
       "    .dataframe tbody tr th {\n",
       "        vertical-align: top;\n",
       "    }\n",
       "\n",
       "    .dataframe thead th {\n",
       "        text-align: right;\n",
       "    }\n",
       "</style>\n",
       "<table border=\"1\" class=\"dataframe\">\n",
       "  <thead>\n",
       "    <tr style=\"text-align: right;\">\n",
       "      <th></th>\n",
       "      <th>App_Id</th>\n",
       "      <th>App_Name</th>\n",
       "      <th>AppStore_Url</th>\n",
       "      <th>Primary_Genre</th>\n",
       "      <th>Content_Rating</th>\n",
       "      <th>Size_Bytes</th>\n",
       "      <th>Required_IOS_Version</th>\n",
       "      <th>Released</th>\n",
       "      <th>Updated</th>\n",
       "      <th>Version</th>\n",
       "      <th>...</th>\n",
       "      <th>Currency</th>\n",
       "      <th>Free</th>\n",
       "      <th>DeveloperId</th>\n",
       "      <th>Developer</th>\n",
       "      <th>Developer_Url</th>\n",
       "      <th>Developer_Website</th>\n",
       "      <th>Average_User_Rating</th>\n",
       "      <th>Reviews</th>\n",
       "      <th>Current_Version_Score</th>\n",
       "      <th>Current_Version_Reviews</th>\n",
       "    </tr>\n",
       "  </thead>\n",
       "  <tbody>\n",
       "    <tr>\n",
       "      <th>0</th>\n",
       "      <td>com.hkbu.arc.apaper</td>\n",
       "      <td>A+ Paper Guide</td>\n",
       "      <td>https://apps.apple.com/us/app/a-paper-guide/id...</td>\n",
       "      <td>Education</td>\n",
       "      <td>4+</td>\n",
       "      <td>21993472.0</td>\n",
       "      <td>8.0</td>\n",
       "      <td>2017-09-28T03:02:41Z</td>\n",
       "      <td>2018-12-21T21:30:36Z</td>\n",
       "      <td>1.1.2</td>\n",
       "      <td>...</td>\n",
       "      <td>USD</td>\n",
       "      <td>True</td>\n",
       "      <td>1375410542</td>\n",
       "      <td>HKBU ARC</td>\n",
       "      <td>https://apps.apple.com/us/developer/hkbu-arc/i...</td>\n",
       "      <td>NaN</td>\n",
       "      <td>0.0</td>\n",
       "      <td>0</td>\n",
       "      <td>0.0</td>\n",
       "      <td>0</td>\n",
       "    </tr>\n",
       "    <tr>\n",
       "      <th>1</th>\n",
       "      <td>com.dmitriev.abooks</td>\n",
       "      <td>A-Books</td>\n",
       "      <td>https://apps.apple.com/us/app/a-books/id103157...</td>\n",
       "      <td>Book</td>\n",
       "      <td>4+</td>\n",
       "      <td>13135872.0</td>\n",
       "      <td>10.0</td>\n",
       "      <td>2015-08-31T19:31:32Z</td>\n",
       "      <td>2019-07-23T20:31:09Z</td>\n",
       "      <td>1.3</td>\n",
       "      <td>...</td>\n",
       "      <td>USD</td>\n",
       "      <td>True</td>\n",
       "      <td>1031572001</td>\n",
       "      <td>Roman Dmitriev</td>\n",
       "      <td>https://apps.apple.com/us/developer/roman-dmit...</td>\n",
       "      <td>NaN</td>\n",
       "      <td>5.0</td>\n",
       "      <td>1</td>\n",
       "      <td>5.0</td>\n",
       "      <td>1</td>\n",
       "    </tr>\n",
       "    <tr>\n",
       "      <th>2</th>\n",
       "      <td>no.terp.abooks</td>\n",
       "      <td>A-books</td>\n",
       "      <td>https://apps.apple.com/us/app/a-books/id145702...</td>\n",
       "      <td>Book</td>\n",
       "      <td>4+</td>\n",
       "      <td>21943296.0</td>\n",
       "      <td>9.0</td>\n",
       "      <td>2021-04-14T07:00:00Z</td>\n",
       "      <td>2021-05-30T21:08:54Z</td>\n",
       "      <td>1.3.1</td>\n",
       "      <td>...</td>\n",
       "      <td>USD</td>\n",
       "      <td>True</td>\n",
       "      <td>1457024163</td>\n",
       "      <td>Terp AS</td>\n",
       "      <td>https://apps.apple.com/us/developer/terp-as/id...</td>\n",
       "      <td>NaN</td>\n",
       "      <td>0.0</td>\n",
       "      <td>0</td>\n",
       "      <td>0.0</td>\n",
       "      <td>0</td>\n",
       "    </tr>\n",
       "    <tr>\n",
       "      <th>3</th>\n",
       "      <td>fr.antoinettefleur.Book1</td>\n",
       "      <td>A-F Book #1</td>\n",
       "      <td>https://apps.apple.com/us/app/a-f-book-1/id500...</td>\n",
       "      <td>Book</td>\n",
       "      <td>4+</td>\n",
       "      <td>81851392.0</td>\n",
       "      <td>8.0</td>\n",
       "      <td>2012-02-10T03:40:07Z</td>\n",
       "      <td>2019-10-29T12:40:37Z</td>\n",
       "      <td>1.2</td>\n",
       "      <td>...</td>\n",
       "      <td>USD</td>\n",
       "      <td>False</td>\n",
       "      <td>439568839</td>\n",
       "      <td>i-editeur.com</td>\n",
       "      <td>https://apps.apple.com/us/developer/i-editeur-...</td>\n",
       "      <td>NaN</td>\n",
       "      <td>0.0</td>\n",
       "      <td>0</td>\n",
       "      <td>0.0</td>\n",
       "      <td>0</td>\n",
       "    </tr>\n",
       "    <tr>\n",
       "      <th>4</th>\n",
       "      <td>com.imonstersoft.azdictionaryios</td>\n",
       "      <td>A-Z Synonyms Dictionary</td>\n",
       "      <td>https://apps.apple.com/us/app/a-z-synonyms-dic...</td>\n",
       "      <td>Reference</td>\n",
       "      <td>4+</td>\n",
       "      <td>64692224.0</td>\n",
       "      <td>9.0</td>\n",
       "      <td>2020-12-16T08:00:00Z</td>\n",
       "      <td>2020-12-18T21:36:11Z</td>\n",
       "      <td>1.0.1</td>\n",
       "      <td>...</td>\n",
       "      <td>USD</td>\n",
       "      <td>True</td>\n",
       "      <td>656731821</td>\n",
       "      <td>Ngov chiheang</td>\n",
       "      <td>https://apps.apple.com/us/developer/ngov-chihe...</td>\n",
       "      <td>http://imonstersoft.com</td>\n",
       "      <td>0.0</td>\n",
       "      <td>0</td>\n",
       "      <td>0.0</td>\n",
       "      <td>0</td>\n",
       "    </tr>\n",
       "  </tbody>\n",
       "</table>\n",
       "<p>5 rows × 21 columns</p>\n",
       "</div>"
      ],
      "text/plain": [
       "                             App_Id                 App_Name  \\\n",
       "0               com.hkbu.arc.apaper           A+ Paper Guide   \n",
       "1               com.dmitriev.abooks                  A-Books   \n",
       "2                    no.terp.abooks                  A-books   \n",
       "3          fr.antoinettefleur.Book1              A-F Book #1   \n",
       "4  com.imonstersoft.azdictionaryios  A-Z Synonyms Dictionary   \n",
       "\n",
       "                                        AppStore_Url Primary_Genre  \\\n",
       "0  https://apps.apple.com/us/app/a-paper-guide/id...     Education   \n",
       "1  https://apps.apple.com/us/app/a-books/id103157...          Book   \n",
       "2  https://apps.apple.com/us/app/a-books/id145702...          Book   \n",
       "3  https://apps.apple.com/us/app/a-f-book-1/id500...          Book   \n",
       "4  https://apps.apple.com/us/app/a-z-synonyms-dic...     Reference   \n",
       "\n",
       "  Content_Rating  Size_Bytes Required_IOS_Version              Released  \\\n",
       "0             4+  21993472.0                  8.0  2017-09-28T03:02:41Z   \n",
       "1             4+  13135872.0                 10.0  2015-08-31T19:31:32Z   \n",
       "2             4+  21943296.0                  9.0  2021-04-14T07:00:00Z   \n",
       "3             4+  81851392.0                  8.0  2012-02-10T03:40:07Z   \n",
       "4             4+  64692224.0                  9.0  2020-12-16T08:00:00Z   \n",
       "\n",
       "                Updated Version  ...  Currency   Free  DeveloperId  \\\n",
       "0  2018-12-21T21:30:36Z   1.1.2  ...       USD   True   1375410542   \n",
       "1  2019-07-23T20:31:09Z     1.3  ...       USD   True   1031572001   \n",
       "2  2021-05-30T21:08:54Z   1.3.1  ...       USD   True   1457024163   \n",
       "3  2019-10-29T12:40:37Z     1.2  ...       USD  False    439568839   \n",
       "4  2020-12-18T21:36:11Z   1.0.1  ...       USD   True    656731821   \n",
       "\n",
       "        Developer                                      Developer_Url  \\\n",
       "0        HKBU ARC  https://apps.apple.com/us/developer/hkbu-arc/i...   \n",
       "1  Roman Dmitriev  https://apps.apple.com/us/developer/roman-dmit...   \n",
       "2         Terp AS  https://apps.apple.com/us/developer/terp-as/id...   \n",
       "3   i-editeur.com  https://apps.apple.com/us/developer/i-editeur-...   \n",
       "4   Ngov chiheang  https://apps.apple.com/us/developer/ngov-chihe...   \n",
       "\n",
       "         Developer_Website Average_User_Rating  Reviews  \\\n",
       "0                      NaN                 0.0        0   \n",
       "1                      NaN                 5.0        1   \n",
       "2                      NaN                 0.0        0   \n",
       "3                      NaN                 0.0        0   \n",
       "4  http://imonstersoft.com                 0.0        0   \n",
       "\n",
       "   Current_Version_Score  Current_Version_Reviews  \n",
       "0                    0.0                        0  \n",
       "1                    5.0                        1  \n",
       "2                    0.0                        0  \n",
       "3                    0.0                        0  \n",
       "4                    0.0                        0  \n",
       "\n",
       "[5 rows x 21 columns]"
      ]
     },
     "execution_count": 3,
     "metadata": {},
     "output_type": "execute_result"
    }
   ],
   "source": [
    "# Look first 5 records of data\n",
    "df.head()"
   ]
  },
  {
   "cell_type": "code",
   "execution_count": 4,
   "metadata": {},
   "outputs": [
    {
     "name": "stdout",
     "output_type": "stream",
     "text": [
      "<class 'pandas.core.frame.DataFrame'>\n",
      "RangeIndex: 1230376 entries, 0 to 1230375\n",
      "Data columns (total 21 columns):\n",
      " #   Column                   Non-Null Count    Dtype  \n",
      "---  ------                   --------------    -----  \n",
      " 0   App_Id                   1230376 non-null  object \n",
      " 1   App_Name                 1230375 non-null  object \n",
      " 2   AppStore_Url             1230376 non-null  object \n",
      " 3   Primary_Genre            1230376 non-null  object \n",
      " 4   Content_Rating           1230376 non-null  object \n",
      " 5   Size_Bytes               1230152 non-null  float64\n",
      " 6   Required_IOS_Version     1230376 non-null  object \n",
      " 7   Released                 1230373 non-null  object \n",
      " 8   Updated                  1230376 non-null  object \n",
      " 9   Version                  1230376 non-null  object \n",
      " 10  Price                    1229886 non-null  float64\n",
      " 11  Currency                 1230376 non-null  object \n",
      " 12  Free                     1230376 non-null  bool   \n",
      " 13  DeveloperId              1230376 non-null  int64  \n",
      " 14  Developer                1230376 non-null  object \n",
      " 15  Developer_Url            1229267 non-null  object \n",
      " 16  Developer_Website        586388 non-null   object \n",
      " 17  Average_User_Rating      1230376 non-null  float64\n",
      " 18  Reviews                  1230376 non-null  int64  \n",
      " 19  Current_Version_Score    1230376 non-null  float64\n",
      " 20  Current_Version_Reviews  1230376 non-null  int64  \n",
      "dtypes: bool(1), float64(4), int64(3), object(13)\n",
      "memory usage: 188.9+ MB\n"
     ]
    }
   ],
   "source": [
    "# To view detailed information about each column in the dataset:\n",
    "df.info()"
   ]
  },
  {
   "cell_type": "code",
   "execution_count": 5,
   "metadata": {},
   "outputs": [
    {
     "name": "stdout",
     "output_type": "stream",
     "text": [
      "Total rows of  dataset: 1230376\n",
      "Total columns of dataset: 21\n"
     ]
    }
   ],
   "source": [
    "# Total rows and columns of data set\n",
    "df.shape\n",
    "print(f'Total rows of  dataset: {df.shape[0]}') \n",
    "print(f'Total columns of dataset: {df.shape[1]}')"
   ]
  },
  {
   "cell_type": "markdown",
   "metadata": {},
   "source": [
    "# **Key Observations part 1**\n",
    "1. There are `06 numerical` (some of them seems continuous and discreet) and one is DeveloperId is not numerical data, it is ID(it will be considered as Nominal), `01 Boolean`, and `13 strings` (`02 are dates`) fields in the dataset\n",
    "2. Total Rows of Dataset  : 1230376\n",
    "3. Total Columns of Dataset : 21\n",
    "4. The dates in the `Released` and `Updated` fields are in UTC format. To analyze them accurately, I need to convert them. The \"T\" doesn't have a specific meaning; it serves as the separator required by the ISO 8601 combined date-time format. The \"Z\" indicates the Zero timezone, meaning it's offset by 0 from Coordinated Universal Time (UTC)."
   ]
  },
  {
   "cell_type": "markdown",
   "metadata": {},
   "source": [
    "---"
   ]
  },
  {
   "cell_type": "code",
   "execution_count": 6,
   "metadata": {},
   "outputs": [
    {
     "data": {
      "text/plain": [
       "Index(['App_Id', 'App_Name', 'AppStore_Url', 'Primary_Genre', 'Content_Rating',\n",
       "       'Size_Bytes', 'Required_IOS_Version', 'Released', 'Updated', 'Version',\n",
       "       'Price', 'Currency', 'Free', 'DeveloperId', 'Developer',\n",
       "       'Developer_Url', 'Developer_Website', 'Average_User_Rating', 'Reviews',\n",
       "       'Current_Version_Score', 'Current_Version_Reviews'],\n",
       "      dtype='object')"
      ]
     },
     "execution_count": 6,
     "metadata": {},
     "output_type": "execute_result"
    }
   ],
   "source": [
    "# To look columns name\n",
    "df.columns"
   ]
  },
  {
   "cell_type": "code",
   "execution_count": 7,
   "metadata": {},
   "outputs": [
    {
     "data": {
      "text/html": [
       "<div>\n",
       "<style scoped>\n",
       "    .dataframe tbody tr th:only-of-type {\n",
       "        vertical-align: middle;\n",
       "    }\n",
       "\n",
       "    .dataframe tbody tr th {\n",
       "        vertical-align: top;\n",
       "    }\n",
       "\n",
       "    .dataframe thead th {\n",
       "        text-align: right;\n",
       "    }\n",
       "</style>\n",
       "<table border=\"1\" class=\"dataframe\">\n",
       "  <thead>\n",
       "    <tr style=\"text-align: right;\">\n",
       "      <th></th>\n",
       "      <th>Size_Bytes</th>\n",
       "      <th>Price</th>\n",
       "      <th>DeveloperId</th>\n",
       "      <th>Average_User_Rating</th>\n",
       "      <th>Reviews</th>\n",
       "      <th>Current_Version_Score</th>\n",
       "      <th>Current_Version_Reviews</th>\n",
       "    </tr>\n",
       "  </thead>\n",
       "  <tbody>\n",
       "    <tr>\n",
       "      <th>count</th>\n",
       "      <td>1.230152e+06</td>\n",
       "      <td>1.229886e+06</td>\n",
       "      <td>1.230376e+06</td>\n",
       "      <td>1.230376e+06</td>\n",
       "      <td>1.230376e+06</td>\n",
       "      <td>1.230376e+06</td>\n",
       "      <td>1.230376e+06</td>\n",
       "    </tr>\n",
       "    <tr>\n",
       "      <th>mean</th>\n",
       "      <td>7.510857e+07</td>\n",
       "      <td>5.041264e-01</td>\n",
       "      <td>1.092869e+09</td>\n",
       "      <td>1.788387e+00</td>\n",
       "      <td>8.259478e+02</td>\n",
       "      <td>1.788387e+00</td>\n",
       "      <td>8.259478e+02</td>\n",
       "    </tr>\n",
       "    <tr>\n",
       "      <th>std</th>\n",
       "      <td>2.318726e+08</td>\n",
       "      <td>6.869674e+00</td>\n",
       "      <td>4.090897e+08</td>\n",
       "      <td>2.154105e+00</td>\n",
       "      <td>5.016051e+04</td>\n",
       "      <td>2.154105e+00</td>\n",
       "      <td>5.016051e+04</td>\n",
       "    </tr>\n",
       "    <tr>\n",
       "      <th>min</th>\n",
       "      <td>2.762800e+04</td>\n",
       "      <td>0.000000e+00</td>\n",
       "      <td>2.816565e+08</td>\n",
       "      <td>0.000000e+00</td>\n",
       "      <td>0.000000e+00</td>\n",
       "      <td>0.000000e+00</td>\n",
       "      <td>0.000000e+00</td>\n",
       "    </tr>\n",
       "    <tr>\n",
       "      <th>25%</th>\n",
       "      <td>2.041344e+07</td>\n",
       "      <td>0.000000e+00</td>\n",
       "      <td>7.381109e+08</td>\n",
       "      <td>0.000000e+00</td>\n",
       "      <td>0.000000e+00</td>\n",
       "      <td>0.000000e+00</td>\n",
       "      <td>0.000000e+00</td>\n",
       "    </tr>\n",
       "    <tr>\n",
       "      <th>50%</th>\n",
       "      <td>4.333158e+07</td>\n",
       "      <td>0.000000e+00</td>\n",
       "      <td>1.179711e+09</td>\n",
       "      <td>0.000000e+00</td>\n",
       "      <td>0.000000e+00</td>\n",
       "      <td>0.000000e+00</td>\n",
       "      <td>0.000000e+00</td>\n",
       "    </tr>\n",
       "    <tr>\n",
       "      <th>75%</th>\n",
       "      <td>8.365466e+07</td>\n",
       "      <td>0.000000e+00</td>\n",
       "      <td>1.471960e+09</td>\n",
       "      <td>4.333330e+00</td>\n",
       "      <td>3.000000e+00</td>\n",
       "      <td>4.333330e+00</td>\n",
       "      <td>3.000000e+00</td>\n",
       "    </tr>\n",
       "    <tr>\n",
       "      <th>max</th>\n",
       "      <td>7.677945e+10</td>\n",
       "      <td>9.999900e+02</td>\n",
       "      <td>1.590233e+09</td>\n",
       "      <td>5.000000e+00</td>\n",
       "      <td>2.268533e+07</td>\n",
       "      <td>5.000000e+00</td>\n",
       "      <td>2.268533e+07</td>\n",
       "    </tr>\n",
       "  </tbody>\n",
       "</table>\n",
       "</div>"
      ],
      "text/plain": [
       "         Size_Bytes         Price   DeveloperId  Average_User_Rating  \\\n",
       "count  1.230152e+06  1.229886e+06  1.230376e+06         1.230376e+06   \n",
       "mean   7.510857e+07  5.041264e-01  1.092869e+09         1.788387e+00   \n",
       "std    2.318726e+08  6.869674e+00  4.090897e+08         2.154105e+00   \n",
       "min    2.762800e+04  0.000000e+00  2.816565e+08         0.000000e+00   \n",
       "25%    2.041344e+07  0.000000e+00  7.381109e+08         0.000000e+00   \n",
       "50%    4.333158e+07  0.000000e+00  1.179711e+09         0.000000e+00   \n",
       "75%    8.365466e+07  0.000000e+00  1.471960e+09         4.333330e+00   \n",
       "max    7.677945e+10  9.999900e+02  1.590233e+09         5.000000e+00   \n",
       "\n",
       "            Reviews  Current_Version_Score  Current_Version_Reviews  \n",
       "count  1.230376e+06           1.230376e+06             1.230376e+06  \n",
       "mean   8.259478e+02           1.788387e+00             8.259478e+02  \n",
       "std    5.016051e+04           2.154105e+00             5.016051e+04  \n",
       "min    0.000000e+00           0.000000e+00             0.000000e+00  \n",
       "25%    0.000000e+00           0.000000e+00             0.000000e+00  \n",
       "50%    0.000000e+00           0.000000e+00             0.000000e+00  \n",
       "75%    3.000000e+00           4.333330e+00             3.000000e+00  \n",
       "max    2.268533e+07           5.000000e+00             2.268533e+07  "
      ]
     },
     "execution_count": 7,
     "metadata": {},
     "output_type": "execute_result"
    }
   ],
   "source": [
    "# Statistical Summary\n",
    "df.describe()"
   ]
  },
  {
   "cell_type": "code",
   "execution_count": 8,
   "metadata": {},
   "outputs": [
    {
     "data": {
      "text/plain": [
       "Developer_Website          643988\n",
       "Developer_Url                1109\n",
       "Price                         490\n",
       "Size_Bytes                    224\n",
       "Released                        3\n",
       "App_Name                        1\n",
       "Free                            0\n",
       "Current_Version_Score           0\n",
       "Reviews                         0\n",
       "Average_User_Rating             0\n",
       "Developer                       0\n",
       "DeveloperId                     0\n",
       "App_Id                          0\n",
       "Currency                        0\n",
       "Version                         0\n",
       "Updated                         0\n",
       "Required_IOS_Version            0\n",
       "Content_Rating                  0\n",
       "Primary_Genre                   0\n",
       "AppStore_Url                    0\n",
       "Current_Version_Reviews         0\n",
       "dtype: int64"
      ]
     },
     "execution_count": 8,
     "metadata": {},
     "output_type": "execute_result"
    }
   ],
   "source": [
    "# Identifying the null values\n",
    "df.isnull().sum().sort_values(ascending = False)"
   ]
  },
  {
   "cell_type": "code",
   "execution_count": 9,
   "metadata": {},
   "outputs": [
    {
     "name": "stdout",
     "output_type": "stream",
     "text": [
      "Total number of null values are : 645815\n"
     ]
    }
   ],
   "source": [
    "# Total null values\n",
    "print(f'Total number of null values are : {df.isnull().sum().sum()}')"
   ]
  },
  {
   "cell_type": "code",
   "execution_count": 10,
   "metadata": {},
   "outputs": [
    {
     "name": "stdout",
     "output_type": "stream",
     "text": [
      "Number of duplicated values in dataset : 0\n"
     ]
    }
   ],
   "source": [
    "# Check Duplicate Values\n",
    "print(f'Number of duplicated values in dataset : {df.duplicated().sum()}')"
   ]
  },
  {
   "cell_type": "markdown",
   "metadata": {},
   "source": [
    "# **Key Observations part 2**\n",
    "1. `Price` : 75% of Apps has 0 Price means most Apps are free, we have to comprare it with column `Free` also\n",
    "2. `Average_User_Rating` : 50% of Apps has 0 and maximum is 5 and ordinal column \n",
    "3. `Reviews` : 50% of Apps has 0 reviews maximum 2.268533e+07 reviews\n",
    "4. `Current_Version_Score` : 50% of Apps has 0 and maximum is 5\n",
    "5. `Current_Version_Reviews` : 50% of Apps has 0 and maximum is 2.268533e+07\n",
    "6. `Size_Bytes` : To visualize properly, it is better to add new column with `Size_MB` \n",
    "7. `App_Name` : Only 01 null value (0.000081%), and will not impact much, if remove this one row\n",
    "8. `Released` : Only 03 null value (0.000244%), and will not impact much, if remove 03 missing rows \n",
    "9. `Size_Bytes` : 224 null value (0.018206%), so can remove or impute missing rows after thorough analysis\n",
    "10. `Price` : 490 null values (0.039825%), should analyze it properly with other column `Free` before handling Nan values\n",
    "11. `Developer_Url` : 1109 null values (0.090135%), let it analyze further\n",
    "12. `Developer_Website` : 643988 null values (52.340748%), as most of developers have no website, so can remove complete column, or let it be here.\n",
    "13. `No duplicate rows`\n",
    "14. Total null values : 645815"
   ]
  },
  {
   "cell_type": "markdown",
   "metadata": {},
   "source": [
    "---"
   ]
  },
  {
   "cell_type": "markdown",
   "metadata": {},
   "source": [
    "# 4. **Cleaning Data**"
   ]
  },
  {
   "cell_type": "code",
   "execution_count": 11,
   "metadata": {},
   "outputs": [
    {
     "data": {
      "text/plain": [
       "Developer_Website    643988\n",
       "Developer_Url          1109\n",
       "Price                   490\n",
       "Size_Bytes              224\n",
       "Released                  3\n",
       "App_Name                  1\n",
       "dtype: int64"
      ]
     },
     "execution_count": 11,
     "metadata": {},
     "output_type": "execute_result"
    }
   ],
   "source": [
    "# checking null values\n",
    "df[df.columns[df.isnull().any()]].isnull().sum().sort_values(ascending = False)"
   ]
  },
  {
   "cell_type": "markdown",
   "metadata": {},
   "source": [
    "Here `Developer_Website` and `Developer_Url` has distinct values means every developer has it's own credentials,\n",
    "that's why we can't impute based on other's credentials. Here we will impute NaN values with  `No_Website` and `No_Url` respectively."
   ]
  },
  {
   "cell_type": "markdown",
   "metadata": {},
   "source": [
    "# Imputing `Developer_Website` and `Developer_Url`"
   ]
  },
  {
   "cell_type": "code",
   "execution_count": 12,
   "metadata": {},
   "outputs": [],
   "source": [
    "# Imputing Developer_Website And Developer_Url column \n",
    "df['Developer_Website'] = df['Developer_Website'].fillna('No_Website')\n",
    "df['Developer_Url'] = df['Developer_Url'].fillna('No_Url')"
   ]
  },
  {
   "cell_type": "markdown",
   "metadata": {},
   "source": [
    "# Imputing `App_Name` "
   ]
  },
  {
   "cell_type": "code",
   "execution_count": 13,
   "metadata": {},
   "outputs": [],
   "source": [
    "# There is only one row of App_Name which has NaN value, so removed..\n",
    "df.dropna(subset=['App_Name'], inplace=True)"
   ]
  },
  {
   "cell_type": "markdown",
   "metadata": {},
   "source": [
    "# Imputing `Released` Column"
   ]
  },
  {
   "cell_type": "code",
   "execution_count": null,
   "metadata": {},
   "outputs": [],
   "source": [
    "# There are 3 NaN values in Released column, imputed with Update column Values which is better way\n",
    "df['Released'] = df['Released'].fillna(df['Updated'], inplace=True)"
   ]
  },
  {
   "cell_type": "markdown",
   "metadata": {},
   "source": [
    "# Here `Size_Bytes` and `Price` will be imputed with KNN machine Algorithm. "
   ]
  },
  {
   "cell_type": "code",
   "execution_count": 15,
   "metadata": {},
   "outputs": [],
   "source": [
    "from sklearn.impute import KNNImputer\n",
    "\n",
    "# Extracting Cols(Size_Bytes,Price) of NaN values\n",
    "null_value_cols = ['Size_Bytes','Price']\n",
    "data = df[null_value_cols]\n",
    "\n",
    "#Creating Imputer and fit\n",
    "imputer = KNNImputer(n_neighbors = 5)\n",
    "imputed_data = imputer.fit_transform(data)\n",
    "\n",
    "# Replacing imputed values with original values\n",
    "df[['Size_Bytes','Price']]= imputed_data"
   ]
  },
  {
   "cell_type": "code",
   "execution_count": 16,
   "metadata": {},
   "outputs": [
    {
     "name": "stdout",
     "output_type": "stream",
     "text": [
      "Now the null values are : 1230375\n"
     ]
    }
   ],
   "source": [
    "print(f'Now the null values are : {df.isnull().sum().sum()}')"
   ]
  },
  {
   "cell_type": "markdown",
   "metadata": {},
   "source": [
    "# **Milestone Achieved 🥰**\n",
    "1. We delt with all missing values\n",
    "2. Now, we have to analyze columns and have to look deeply in each column"
   ]
  },
  {
   "cell_type": "markdown",
   "metadata": {},
   "source": [
    "# 5. **Feature Engineering**"
   ]
  },
  {
   "cell_type": "markdown",
   "metadata": {},
   "source": [
    "# Updating `Released` and `Updated` Column"
   ]
  },
  {
   "cell_type": "code",
   "execution_count": 17,
   "metadata": {},
   "outputs": [],
   "source": [
    "# Convert Released and Update Columns DateTime format to utc\n",
    "df['Released'] = pd.to_datetime(df['Released'], utc = True)  \n",
    "df['Updated'] = pd.to_datetime(df['Updated'], utc = True)  "
   ]
  },
  {
   "cell_type": "markdown",
   "metadata": {},
   "source": [
    "# Modifying `Size_Byte` Column to `Size_MB`"
   ]
  },
  {
   "cell_type": "code",
   "execution_count": 18,
   "metadata": {},
   "outputs": [],
   "source": [
    "# Changing values in `Size_Bytes` from Bytes to MBs and rename it as `Size_MB`.\n",
    "df['Size_MB'] = (df['Size_Bytes'] / (1024*1024)).round(decimals = 2)\n",
    "\n",
    "#Dropping `Size_Byte` column because we don't need of it.\n",
    "df = df.drop(columns='Size_Bytes')"
   ]
  },
  {
   "cell_type": "markdown",
   "metadata": {},
   "source": [
    "# **Drop one identical column**"
   ]
  },
  {
   "cell_type": "code",
   "execution_count": 19,
   "metadata": {},
   "outputs": [
    {
     "name": "stdout",
     "output_type": "stream",
     "text": [
      "Shape of original dataset (1230375, 21)\n",
      "Shape of dataset when 'Average_User_Rating' and 'Current_Version_Score' are equal (1230374, 21)\n",
      "Shape of dataset when 'Reviews' and 'Current_Version_Reviews' are equal (1230375, 21)\n"
     ]
    }
   ],
   "source": [
    "df_ratings = df[df['Average_User_Rating'] == df['Current_Version_Score']]\n",
    "df_reviews = df[df['Reviews'] == df['Current_Version_Reviews']]\n",
    "print(f\"Shape of original dataset {df.shape}\")\n",
    "print(f\"Shape of dataset when 'Average_User_Rating' and 'Current_Version_Score' are equal {df_ratings.shape}\")\n",
    "\n",
    "print(f\"Shape of dataset when 'Reviews' and 'Current_Version_Reviews' are equal {df_reviews.shape}\")"
   ]
  },
  {
   "cell_type": "markdown",
   "metadata": {},
   "source": [
    "So: \n",
    "\n",
    "1. Descriptive Analysis of `Average_User_Rating` and `Current_Version_Score` are identical\n",
    "2. Descriptive Analysis of `Reviews` and `Current_Version_Reviews` are identical"
   ]
  },
  {
   "cell_type": "code",
   "execution_count": 20,
   "metadata": {},
   "outputs": [],
   "source": [
    "# That's why we drop one column from them\n",
    "df = df.drop(columns = 'Current_Version_Score')\n",
    "df = df.drop(columns = 'Current_Version_Reviews')"
   ]
  },
  {
   "cell_type": "markdown",
   "metadata": {},
   "source": [
    "# Modifying the Column name `Free` to `Type`\n",
    "And it's values from `True` to `Paid` and `False` to `Free`"
   ]
  },
  {
   "cell_type": "code",
   "execution_count": 21,
   "metadata": {},
   "outputs": [],
   "source": [
    "# Change name of column from `Free` to `Type`\n",
    "df.rename(columns={'Free':'Type'}, inplace=True)\n",
    "# change type of `Type` column from bool to String\n",
    "df['Type'] = df['Type'].astype(str)\n",
    "\n",
    "# Changing values from 'True' and 'False' to 'Free' and 'Paid' in `Type` column as there are only 02 values\n",
    "df['Type'] = df['Type'].replace({'True':'Free', 'False':'Paid'})\n"
   ]
  },
  {
   "cell_type": "markdown",
   "metadata": {},
   "source": [
    "Create bins of `Content_Rating`column into proper Name convention for easy understanding"
   ]
  },
  {
   "cell_type": "code",
   "execution_count": 22,
   "metadata": {},
   "outputs": [
    {
     "data": {
      "text/plain": [
       "Content_Rating\n",
       "4+               980970\n",
       "17+              124127\n",
       "12+               89570\n",
       "9+                35698\n",
       "Not yet rated        10\n",
       "Name: count, dtype: int64"
      ]
     },
     "execution_count": 22,
     "metadata": {},
     "output_type": "execute_result"
    }
   ],
   "source": [
    "df.Content_Rating.value_counts()"
   ]
  },
  {
   "cell_type": "code",
   "execution_count": 23,
   "metadata": {},
   "outputs": [
    {
     "data": {
      "text/plain": [
       "Content_Rating\n",
       "Kids        980970\n",
       "Adult       124127\n",
       "Teen         89570\n",
       "Children     35698\n",
       "Everyone        10\n",
       "Name: count, dtype: int64"
      ]
     },
     "execution_count": 23,
     "metadata": {},
     "output_type": "execute_result"
    }
   ],
   "source": [
    "df['Content_Rating'] = df['Content_Rating'].replace({'4+':'Kids', '9+':'Children', '12+':\"Teen\", '17+':'Adult', 'Not yet rated': 'Everyone'})\n",
    "df.Content_Rating.value_counts()"
   ]
  },
  {
   "cell_type": "code",
   "execution_count": 24,
   "metadata": {},
   "outputs": [
    {
     "data": {
      "text/html": [
       "<div>\n",
       "<style scoped>\n",
       "    .dataframe tbody tr th:only-of-type {\n",
       "        vertical-align: middle;\n",
       "    }\n",
       "\n",
       "    .dataframe tbody tr th {\n",
       "        vertical-align: top;\n",
       "    }\n",
       "\n",
       "    .dataframe thead th {\n",
       "        text-align: right;\n",
       "    }\n",
       "</style>\n",
       "<table border=\"1\" class=\"dataframe\">\n",
       "  <thead>\n",
       "    <tr style=\"text-align: right;\">\n",
       "      <th></th>\n",
       "      <th>App_Id</th>\n",
       "      <th>App_Name</th>\n",
       "      <th>AppStore_Url</th>\n",
       "      <th>Primary_Genre</th>\n",
       "      <th>Content_Rating</th>\n",
       "      <th>Required_IOS_Version</th>\n",
       "      <th>Released</th>\n",
       "      <th>Updated</th>\n",
       "      <th>Version</th>\n",
       "      <th>Price</th>\n",
       "      <th>Currency</th>\n",
       "      <th>Type</th>\n",
       "      <th>DeveloperId</th>\n",
       "      <th>Developer</th>\n",
       "      <th>Developer_Url</th>\n",
       "      <th>Developer_Website</th>\n",
       "      <th>Average_User_Rating</th>\n",
       "      <th>Reviews</th>\n",
       "      <th>Size_MB</th>\n",
       "    </tr>\n",
       "  </thead>\n",
       "  <tbody>\n",
       "    <tr>\n",
       "      <th>0</th>\n",
       "      <td>com.hkbu.arc.apaper</td>\n",
       "      <td>A+ Paper Guide</td>\n",
       "      <td>https://apps.apple.com/us/app/a-paper-guide/id...</td>\n",
       "      <td>Education</td>\n",
       "      <td>Kids</td>\n",
       "      <td>8.0</td>\n",
       "      <td>NaT</td>\n",
       "      <td>2018-12-21 21:30:36+00:00</td>\n",
       "      <td>1.1.2</td>\n",
       "      <td>0.00</td>\n",
       "      <td>USD</td>\n",
       "      <td>Free</td>\n",
       "      <td>1375410542</td>\n",
       "      <td>HKBU ARC</td>\n",
       "      <td>https://apps.apple.com/us/developer/hkbu-arc/i...</td>\n",
       "      <td>No_Website</td>\n",
       "      <td>0.0</td>\n",
       "      <td>0</td>\n",
       "      <td>20.97</td>\n",
       "    </tr>\n",
       "    <tr>\n",
       "      <th>1</th>\n",
       "      <td>com.dmitriev.abooks</td>\n",
       "      <td>A-Books</td>\n",
       "      <td>https://apps.apple.com/us/app/a-books/id103157...</td>\n",
       "      <td>Book</td>\n",
       "      <td>Kids</td>\n",
       "      <td>10.0</td>\n",
       "      <td>NaT</td>\n",
       "      <td>2019-07-23 20:31:09+00:00</td>\n",
       "      <td>1.3</td>\n",
       "      <td>0.00</td>\n",
       "      <td>USD</td>\n",
       "      <td>Free</td>\n",
       "      <td>1031572001</td>\n",
       "      <td>Roman Dmitriev</td>\n",
       "      <td>https://apps.apple.com/us/developer/roman-dmit...</td>\n",
       "      <td>No_Website</td>\n",
       "      <td>5.0</td>\n",
       "      <td>1</td>\n",
       "      <td>12.53</td>\n",
       "    </tr>\n",
       "    <tr>\n",
       "      <th>2</th>\n",
       "      <td>no.terp.abooks</td>\n",
       "      <td>A-books</td>\n",
       "      <td>https://apps.apple.com/us/app/a-books/id145702...</td>\n",
       "      <td>Book</td>\n",
       "      <td>Kids</td>\n",
       "      <td>9.0</td>\n",
       "      <td>NaT</td>\n",
       "      <td>2021-05-30 21:08:54+00:00</td>\n",
       "      <td>1.3.1</td>\n",
       "      <td>0.00</td>\n",
       "      <td>USD</td>\n",
       "      <td>Free</td>\n",
       "      <td>1457024163</td>\n",
       "      <td>Terp AS</td>\n",
       "      <td>https://apps.apple.com/us/developer/terp-as/id...</td>\n",
       "      <td>No_Website</td>\n",
       "      <td>0.0</td>\n",
       "      <td>0</td>\n",
       "      <td>20.93</td>\n",
       "    </tr>\n",
       "    <tr>\n",
       "      <th>3</th>\n",
       "      <td>fr.antoinettefleur.Book1</td>\n",
       "      <td>A-F Book #1</td>\n",
       "      <td>https://apps.apple.com/us/app/a-f-book-1/id500...</td>\n",
       "      <td>Book</td>\n",
       "      <td>Kids</td>\n",
       "      <td>8.0</td>\n",
       "      <td>NaT</td>\n",
       "      <td>2019-10-29 12:40:37+00:00</td>\n",
       "      <td>1.2</td>\n",
       "      <td>2.99</td>\n",
       "      <td>USD</td>\n",
       "      <td>Paid</td>\n",
       "      <td>439568839</td>\n",
       "      <td>i-editeur.com</td>\n",
       "      <td>https://apps.apple.com/us/developer/i-editeur-...</td>\n",
       "      <td>No_Website</td>\n",
       "      <td>0.0</td>\n",
       "      <td>0</td>\n",
       "      <td>78.06</td>\n",
       "    </tr>\n",
       "    <tr>\n",
       "      <th>4</th>\n",
       "      <td>com.imonstersoft.azdictionaryios</td>\n",
       "      <td>A-Z Synonyms Dictionary</td>\n",
       "      <td>https://apps.apple.com/us/app/a-z-synonyms-dic...</td>\n",
       "      <td>Reference</td>\n",
       "      <td>Kids</td>\n",
       "      <td>9.0</td>\n",
       "      <td>NaT</td>\n",
       "      <td>2020-12-18 21:36:11+00:00</td>\n",
       "      <td>1.0.1</td>\n",
       "      <td>0.00</td>\n",
       "      <td>USD</td>\n",
       "      <td>Free</td>\n",
       "      <td>656731821</td>\n",
       "      <td>Ngov chiheang</td>\n",
       "      <td>https://apps.apple.com/us/developer/ngov-chihe...</td>\n",
       "      <td>http://imonstersoft.com</td>\n",
       "      <td>0.0</td>\n",
       "      <td>0</td>\n",
       "      <td>61.70</td>\n",
       "    </tr>\n",
       "  </tbody>\n",
       "</table>\n",
       "</div>"
      ],
      "text/plain": [
       "                             App_Id                 App_Name  \\\n",
       "0               com.hkbu.arc.apaper           A+ Paper Guide   \n",
       "1               com.dmitriev.abooks                  A-Books   \n",
       "2                    no.terp.abooks                  A-books   \n",
       "3          fr.antoinettefleur.Book1              A-F Book #1   \n",
       "4  com.imonstersoft.azdictionaryios  A-Z Synonyms Dictionary   \n",
       "\n",
       "                                        AppStore_Url Primary_Genre  \\\n",
       "0  https://apps.apple.com/us/app/a-paper-guide/id...     Education   \n",
       "1  https://apps.apple.com/us/app/a-books/id103157...          Book   \n",
       "2  https://apps.apple.com/us/app/a-books/id145702...          Book   \n",
       "3  https://apps.apple.com/us/app/a-f-book-1/id500...          Book   \n",
       "4  https://apps.apple.com/us/app/a-z-synonyms-dic...     Reference   \n",
       "\n",
       "  Content_Rating Required_IOS_Version Released                   Updated  \\\n",
       "0           Kids                  8.0      NaT 2018-12-21 21:30:36+00:00   \n",
       "1           Kids                 10.0      NaT 2019-07-23 20:31:09+00:00   \n",
       "2           Kids                  9.0      NaT 2021-05-30 21:08:54+00:00   \n",
       "3           Kids                  8.0      NaT 2019-10-29 12:40:37+00:00   \n",
       "4           Kids                  9.0      NaT 2020-12-18 21:36:11+00:00   \n",
       "\n",
       "  Version  Price Currency  Type  DeveloperId       Developer  \\\n",
       "0   1.1.2   0.00      USD  Free   1375410542        HKBU ARC   \n",
       "1     1.3   0.00      USD  Free   1031572001  Roman Dmitriev   \n",
       "2   1.3.1   0.00      USD  Free   1457024163         Terp AS   \n",
       "3     1.2   2.99      USD  Paid    439568839   i-editeur.com   \n",
       "4   1.0.1   0.00      USD  Free    656731821   Ngov chiheang   \n",
       "\n",
       "                                       Developer_Url        Developer_Website  \\\n",
       "0  https://apps.apple.com/us/developer/hkbu-arc/i...               No_Website   \n",
       "1  https://apps.apple.com/us/developer/roman-dmit...               No_Website   \n",
       "2  https://apps.apple.com/us/developer/terp-as/id...               No_Website   \n",
       "3  https://apps.apple.com/us/developer/i-editeur-...               No_Website   \n",
       "4  https://apps.apple.com/us/developer/ngov-chihe...  http://imonstersoft.com   \n",
       "\n",
       "   Average_User_Rating  Reviews  Size_MB  \n",
       "0                  0.0        0    20.97  \n",
       "1                  5.0        1    12.53  \n",
       "2                  0.0        0    20.93  \n",
       "3                  0.0        0    78.06  \n",
       "4                  0.0        0    61.70  "
      ]
     },
     "execution_count": 24,
     "metadata": {},
     "output_type": "execute_result"
    }
   ],
   "source": [
    "df.head()"
   ]
  },
  {
   "cell_type": "markdown",
   "metadata": {},
   "source": [
    "Now creating the bins of `Review` column and makes categories of reviews."
   ]
  },
  {
   "cell_type": "code",
   "execution_count": 25,
   "metadata": {},
   "outputs": [
    {
     "data": {
      "text/plain": [
       "Reviews_category\n",
       "no           684320\n",
       "Low          521883\n",
       "Moderate      17148\n",
       "High           5663\n",
       "Very High      1209\n",
       "Top Notch       152\n",
       "Name: count, dtype: int64"
      ]
     },
     "execution_count": 25,
     "metadata": {},
     "output_type": "execute_result"
    }
   ],
   "source": [
    "# making a new column called 'Reviews_category' which will have the category of the `Reviews`\n",
    "bins = [-1, 0, 1_000, 10_000, 100_000, 1_000_000, 22_685_334]\n",
    "labels=['no', 'Low', 'Moderate', 'High', 'Very High', 'Top Notch']\n",
    "df['Reviews_category'] = pd.cut(df['Reviews'], bins=bins, labels=labels)\n",
    "\n",
    "df.Reviews_category.value_counts()"
   ]
  },
  {
   "cell_type": "markdown",
   "metadata": {},
   "source": [
    "Now creating the bins of `Average_User_Rating` column and makes new column`Rating_category` of Average_User_Rating and then drop the  original column. "
   ]
  },
  {
   "cell_type": "code",
   "execution_count": 26,
   "metadata": {},
   "outputs": [],
   "source": [
    "# making a new column called 'Rating_category' which will have the category of the `Average_User_Rating`\n",
    "bins = [-1, 0, 1, 2, 3, 4, 5]\n",
    "labels=['No Rating', 'Very Low' ,'Low', 'Satisfied', 'Good', 'Very Good']\n",
    "df['Rating_category'] = pd.cut(df['Average_User_Rating'], bins=bins, labels=labels)\n",
    "df['Rating_category'].unique()\n",
    "df = df.drop(columns='Average_User_Rating')"
   ]
  },
  {
   "cell_type": "markdown",
   "metadata": {},
   "source": [
    "# **Feature Engineering Milestone Achieved 😍**\n",
    "1. We  have successfully implemented feature engineering techniques to improve the Exploratory Data Analysis.\n",
    "2. The code is well-documented with detailed docstrings explaining each method and its functionality\n",
    "2. Now, we will extract insights from our data using visualizations. "
   ]
  },
  {
   "cell_type": "markdown",
   "metadata": {},
   "source": [
    "# 6. **Extracting Insights**"
   ]
  },
  {
   "cell_type": "markdown",
   "metadata": {},
   "source": [
    "1. What is the `correlation` between `numerical` columns (Reviews, Price and MB_Size)\n",
    "2. What is the `distribution` of app categories (Primary_Genre) in the dataset?\n",
    "3. `Top 5 categories` with the `highest Reviews`?\n",
    "4. Which `top 5 categories` has the `highest` and `lowest average price`?\n",
    "5. Which `top 5 categories` has the `highest average size in MBs`?\n",
    "6. What is the `ratio` of `free` to `paid` apps in the dataset?\n",
    "7. `Total percentage` of `free apps` in dataset?"
   ]
  },
  {
   "cell_type": "markdown",
   "metadata": {},
   "source": [
    "**Q1: What is the correlation between numerical columns (`Reviews`, `Price` and `MB_Size`)**"
   ]
  },
  {
   "cell_type": "code",
   "execution_count": 27,
   "metadata": {},
   "outputs": [
    {
     "name": "stdout",
     "output_type": "stream",
     "text": [
      "Correlation between Price and Reviews: -0.0010878049152145638\n",
      "P-value: 0.22757966243864436\n",
      "The correlation is not statistically significant.\n",
      "The correlation is negative, indicating that as the value of one variable increases, the value of the other variable tends to decrease.\n",
      "-------------------------------------------------------------------------------\n",
      "Correlation between Price and Size_MB: 0.05637432655836868\n",
      "P-value: 0.0\n",
      "The correlation is statistically significant.\n",
      "The correlation is positive, indicating that as the value of one variable increases, the value of the other variable also tends to increase.\n",
      "-------------------------------------------------------------------------------\n",
      "Correlation between Reviews and Size_MB: 0.01124975741042349\n",
      "P-value: 9.736041244582617e-36\n",
      "The correlation is statistically significant.\n",
      "The correlation is positive, indicating that as the value of one variable increases, the value of the other variable also tends to increase.\n"
     ]
    }
   ],
   "source": [
    "from scipy.stats import pearsonr\n",
    "\n",
    "# Calculate correlation between 'Price' and 'Reviews'\n",
    "correlation, p_value = pearsonr(df['Price'], df['Reviews'])\n",
    "\n",
    "print('Correlation between Price and Reviews:', correlation)\n",
    "print('P-value:', p_value)\n",
    "# Check if the correlation is statistically significant\n",
    "if p_value < 0.05:\n",
    "    print('The correlation is statistically significant.')\n",
    "else:\n",
    "    print('The correlation is not statistically significant.')\n",
    "\n",
    "# Interpret the correlation coefficient\n",
    "if correlation > 0:\n",
    "    print('The correlation is positive, indicating that as the value of one variable increases, the value of the other variable also tends to increase.')\n",
    "elif correlation < 0:\n",
    "    print('The correlation is negative, indicating that as the value of one variable increases, the value of the other variable tends to decrease.')\n",
    "else:\n",
    "    print('The correlation is zero, indicating no linear relationship between the variables.')\n",
    "print('-------------------------------------------------------------------------------')\n",
    "# Calculate correlation between 'Price' and 'Size_MB'\n",
    "correlation, p_value = pearsonr(df['Price'], df['Size_MB'])\n",
    "\n",
    "print('Correlation between Price and Size_MB:', correlation)\n",
    "print('P-value:', p_value)\n",
    "# Check if the correlation is statistically significant\n",
    "if p_value < 0.05:\n",
    "    print('The correlation is statistically significant.')\n",
    "else:\n",
    "    print('The correlation is not statistically significant.')\n",
    "\n",
    "# Interpret the correlation coefficient\n",
    "if correlation > 0:\n",
    "    print('The correlation is positive, indicating that as the value of one variable increases, the value of the other variable also tends to increase.')\n",
    "elif correlation < 0:\n",
    "    print('The correlation is negative, indicating that as the value of one variable increases, the value of the other variable tends to decrease.')\n",
    "else:\n",
    "    print('The correlation is zero, indicating no linear relationship between the variables.')\n",
    "\n",
    "print('-------------------------------------------------------------------------------')\n",
    "# Calculate correlation between 'Reviews' and 'Size_MB'\n",
    "correlation, p_value = pearsonr(df['Reviews'], df['Size_MB'])\n",
    "\n",
    "print('Correlation between Reviews and Size_MB:', correlation)\n",
    "print('P-value:', p_value)\n",
    "# Check if the correlation is statistically significant\n",
    "if p_value < 0.05:\n",
    "    print('The correlation is statistically significant.')\n",
    "else:\n",
    "    print('The correlation is not statistically significant.')\n",
    "\n",
    "# Interpret the correlation coefficient\n",
    "if correlation > 0:\n",
    "    print('The correlation is positive, indicating that as the value of one variable increases, the value of the other variable also tends to increase.')\n",
    "elif correlation < 0:\n",
    "    print('The correlation is negative, indicating that as the value of one variable increases, the value of the other variable tends to decrease.')\n",
    "else:\n",
    "    print('The correlation is zero, indicating no linear relationship between the variables.')"
   ]
  },
  {
   "cell_type": "markdown",
   "metadata": {},
   "source": [
    "**Q2: What is the distribution of app categories (`Primary_Genre`) in the dataset?**"
   ]
  },
  {
   "cell_type": "code",
   "execution_count": 28,
   "metadata": {},
   "outputs": [
    {
     "data": {
      "text/plain": [
       "Primary_Genre\n",
       "Games        193749\n",
       "Business     128297\n",
       "Education    119174\n",
       "Utilities     94007\n",
       "Lifestyle     84565\n",
       "Name: count, dtype: int64"
      ]
     },
     "execution_count": 28,
     "metadata": {},
     "output_type": "execute_result"
    }
   ],
   "source": [
    "df['Primary_Genre'].value_counts().head()"
   ]
  },
  {
   "cell_type": "code",
   "execution_count": 29,
   "metadata": {},
   "outputs": [
    {
     "data": {
      "image/png": "[encoded data removed]",
      "text/plain": [
       "<Figure size 640x480 with 1 Axes>"
      ]
     },
     "metadata": {},
     "output_type": "display_data"
    }
   ],
   "source": [
    "\n",
    "# Get the distribution of app categories (Primary_Genre)\n",
    "category_distribution = df['Primary_Genre'].value_counts()\n",
    "\n",
    "# Plot the category distribution\n",
    "category_distribution.plot(kind='bar')\n",
    "plt.title('Distribution of App Categories (Primary_Genre)')\n",
    "plt.xlabel('Category')\n",
    "plt.ylabel('Count')\n",
    "plt.show()"
   ]
  },
  {
   "cell_type": "markdown",
   "metadata": {},
   "source": [
    "**`Figure: 1` shows the distribution of app category wise**"
   ]
  },
  {
   "cell_type": "markdown",
   "metadata": {},
   "source": [
    "**Insight: Top 3 categories that are installed from Apple store  are `Games`, `Business` and `Education`.**"
   ]
  },
  {
   "cell_type": "markdown",
   "metadata": {},
   "source": [
    "**Q3 : `Top 5 categories` with the `highest Reviews`** "
   ]
  },
  {
   "cell_type": "code",
   "execution_count": 30,
   "metadata": {},
   "outputs": [
    {
     "name": "stdout",
     "output_type": "stream",
     "text": [
      "Top 5 categories with the highest reviews:\n",
      "- Weather: 3147.31\n",
      "- Photo & Video: 2957.38\n",
      "- Finance: 2011.89\n",
      "- Music: 1729.69\n",
      "- Shopping: 1496.66\n"
     ]
    }
   ],
   "source": [
    "# Calculate the average rating for each category\n",
    "average_ratings = df.groupby('Primary_Genre')['Reviews'].mean()\n",
    "\n",
    "# Sort the categories by average rating in descending order\n",
    "sorted_ratings = average_ratings.sort_values(ascending=False)\n",
    "\n",
    "# Select the top 5 categories\n",
    "top_5_categories = sorted_ratings.head(5)\n",
    "\n",
    "# Print the top 5 categories with their average ratings\n",
    "print(\"Top 5 categories with the highest reviews:\")\n",
    "for category, rating in top_5_categories.items():\n",
    "    print(f\"- {category}: {rating:.2f}\")"
   ]
  },
  {
   "cell_type": "code",
   "execution_count": 31,
   "metadata": {},
   "outputs": [
    {
     "data": {
      "image/png": "[encoded data removed]",
      "text/plain": [
       "<Figure size 800x400 with 1 Axes>"
      ]
     },
     "metadata": {},
     "output_type": "display_data"
    }
   ],
   "source": [
    "# Create a bar chart\n",
    "plt.figure(figsize=(8, 4))\n",
    "plt.bar(top_5_categories.index, top_5_categories.values, color='skyblue')\n",
    "plt.xlabel('Primary Genre')\n",
    "plt.ylabel('Reviews count')\n",
    "plt.title('Top 5 Categories with Highest reviews')\n",
    "plt.xticks(rotation=45, ha='right')\n",
    "# plt.tight_layout()\n",
    "\n",
    "# Show the plot\n",
    "plt.show()"
   ]
  },
  {
   "cell_type": "markdown",
   "metadata": {},
   "source": [
    "**`Figure: 2` shows top 5 Categories with Highest reviews**"
   ]
  },
  {
   "cell_type": "markdown",
   "metadata": {},
   "source": [
    "Q**4 : Which `category` has the `highest average price` and `lowest average price`?**"
   ]
  },
  {
   "cell_type": "code",
   "execution_count": 32,
   "metadata": {},
   "outputs": [
    {
     "name": "stdout",
     "output_type": "stream",
     "text": [
      "The category with the highest average price is 'Graphics & Design' with an average price of $6.98\n",
      "The category with the lowest average price is 'Magazines & Newspapers' with an average price of $0.01\n"
     ]
    }
   ],
   "source": [
    "\n",
    "# Calculate the average price for each category\n",
    "average_prices = df.groupby('Primary_Genre')['Price'].mean()\n",
    "\n",
    "# Find the categories with the highest and lowest average prices\n",
    "highest_average_price_category = average_prices.idxmax()\n",
    "lowest_average_price_category = average_prices.idxmin()\n",
    "\n",
    "highest_average_price = average_prices.max()\n",
    "lowest_average_price = average_prices.min()\n",
    "\n",
    "print(f\"The category with the highest average price is '{highest_average_price_category}' with an average price of ${highest_average_price:.2f}\")\n",
    "print(f\"The category with the lowest average price is '{lowest_average_price_category}' with an average price of ${lowest_average_price:.2f}\")"
   ]
  },
  {
   "cell_type": "markdown",
   "metadata": {},
   "source": [
    "Q5 : **Which `top 5 categories` has the `highest average size in MBs`?**"
   ]
  },
  {
   "cell_type": "code",
   "execution_count": 33,
   "metadata": {},
   "outputs": [
    {
     "name": "stdout",
     "output_type": "stream",
     "text": [
      "Primary_Genre\n",
      "Graphics & Design    151.775595\n",
      "Games                142.644873\n",
      "Book                  86.477987\n",
      "Education             80.241836\n",
      "Music                 73.180097\n",
      "Name: Size_MB, dtype: float64\n"
     ]
    }
   ],
   "source": [
    "# Calculate the average size in MBs for each category\n",
    "average_size_per_category = df.groupby('Primary_Genre')['Size_MB'].mean()\n",
    "\n",
    "# Sort the categories by average size in descending order\n",
    "sorted_categories = average_size_per_category.sort_values(ascending=False)\n",
    "\n",
    "# Print the top 5 categories with the highest average size in MBs\n",
    "print(sorted_categories.head())\n",
    "top5_categories = sorted_categories.head()"
   ]
  },
  {
   "cell_type": "code",
   "execution_count": 34,
   "metadata": {},
   "outputs": [
    {
     "data": {
      "image/png": "[encoded data removed]",
      "text/plain": [
       "<Figure size 700x400 with 1 Axes>"
      ]
     },
     "metadata": {},
     "output_type": "display_data"
    }
   ],
   "source": [
    "# Set the size of the plot\n",
    "plt.figure(figsize=(7, 4))\n",
    "\n",
    "# Create a bar plot of the top 5 categories with the highest average size in MBs\n",
    "top5_categories.plot(kind='bar')\n",
    "\n",
    "# Add a title and labels to the plot\n",
    "plt.title('Top 5 Categories with the Highest Average Size in MBs')\n",
    "plt.xlabel('Category')\n",
    "plt.ylabel('Average Size (MBs)')\n",
    "\n",
    "# Show the plot\n",
    "plt.show()"
   ]
  },
  {
   "cell_type": "markdown",
   "metadata": {},
   "source": [
    "**`Figure: 3` shows top 5 Categories with the Highest Average Size in MBs**"
   ]
  },
  {
   "cell_type": "markdown",
   "metadata": {},
   "source": [
    "Q6 : **What is the ratio of free to paid apps in the dataset?**"
   ]
  },
  {
   "cell_type": "code",
   "execution_count": 35,
   "metadata": {},
   "outputs": [
    {
     "name": "stdout",
     "output_type": "stream",
     "text": [
      "The ratio of free to paid apps in the dataset is 10.95\n"
     ]
    }
   ],
   "source": [
    "# Count the number of free and paid apps\n",
    "free_apps = df[df['Type'] == 'Free'].shape[0]\n",
    "paid_apps = df[df['Type'] == 'Paid'].shape[0]\n",
    "\n",
    "# Calculate the ratio\n",
    "ratio = free_apps / paid_apps\n",
    "print(f'The ratio of free to paid apps in the dataset is {ratio:.2f}')"
   ]
  },
  {
   "cell_type": "markdown",
   "metadata": {},
   "source": [
    "Q7 : **What is the total percentage of free apps in the dataset?**"
   ]
  },
  {
   "cell_type": "code",
   "execution_count": 36,
   "metadata": {},
   "outputs": [
    {
     "name": "stdout",
     "output_type": "stream",
     "text": [
      "The total percentage of free apps in the dataset is 91.63%\n"
     ]
    }
   ],
   "source": [
    "# Count the number of free and paid apps\n",
    "free_apps = df[df['Type'] == 'Free'].shape[0]\n",
    "paid_apps = df[df['Type'] == 'Paid'].shape[0]\n",
    "\n",
    "# Calculate the percentage\n",
    "percentage = (free_apps / (free_apps + paid_apps)) * 100\n",
    "\n",
    "print(f'The total percentage of free apps in the dataset is {percentage:.2f}%')"
   ]
  },
  {
   "cell_type": "markdown",
   "metadata": {},
   "source": [
    "# **🎯Achievements🤩**"
   ]
  },
  {
   "cell_type": "markdown",
   "metadata": {},
   "source": [
    "**1. Correlation Analysis:**\n",
    "   - The correlation between `Price` and `Reviews` is not statistically significant.\n",
    "   - The correlation between `Price` and `Size_MB` is statistically significant.\n",
    "   - The correlation between `Reviews` and `Size_MB` is statistically significant.\n",
    "\n",
    "**2. Distribution of App Categories (Primary_Genre):**\n",
    "   - *Figure 1:* Top 3 categories that are installed from the Apple store are `Games`, `Business`, and `Education`.\n",
    "\n",
    "**3. Top 5 Categories with the Highest Reviews:**\n",
    "   - *Figure 2:* Top 5 Categories with the Highest Reviews are Weather, Photo & Videos, Finance, Music, and Shopping.\n",
    "\n",
    "**4. Categories with the Highest and Lowest Average Price:**\n",
    "   - The category with the highest average price is 'Graphics & Design' with an average price of $6.98.\n",
    "   - The category with the lowest average price is 'Magazines & Newspapers' with an average price of $0.01.\n",
    "\n",
    "**5. Top 5 Categories with the Highest Average Size in MBs:**\n",
    "   - *Figure 3:* Top 5 Categories with the Highest Average Size in MBs are `Graphics & Design`, `Games`, `Book`, `Education`, and `Music`.\n",
    "\n",
    "**6. Ratio of Free to Paid Apps:**\n",
    "   - The ratio of free to paid apps in the dataset is 10.95.\n",
    "\n",
    "**7. Total Percentage of Free Apps in Dataset:**\n",
    "   - The total percentage of free apps in the dataset is 91.63%.\n"
   ]
  },
  {
   "cell_type": "markdown",
   "metadata": {},
   "source": [
    "**1. Correlation Analysis:**\n",
    "   - The correlation between `Price` and `Reviews` is not statistically significant.\n",
    "   - The correlation between `Price` and `Size_MB` is statistically significant.\n",
    "   - The correlation between `Reviews` and `Size_MB` is statistically significant.\n",
    "\n",
    "**2. Distribution of App Categories (Primary_Genre):**\n",
    "   - *Figure 1:* Top 3 categories that are installed from the Apple store are `Games`, `Business`, and `Education`.\n",
    "\n",
    "**3. Top 5 Categories with the Highest Reviews:**\n",
    "   - *Figure 2:* Top 5 Categories with the Highest Reviews are `Weather`, `Photo & Videos`, `Finance`, `Music`, and `Shopping`.\n",
    "\n",
    "**4. Categories with the Highest and Lowest Average Price:**\n",
    "   - The category with the highest average price is `Graphics & Design` with an average price of `$6.98`.\n",
    "   - The category with the lowest average price is `Magazines & Newspapers` with an average price of `$0.01`.\n",
    "\n",
    "**5. Top 5 Categories with the Highest Average Size in MBs:**\n",
    "   - *Figure 3:* Top 5 Categories with the Highest Average Size in MBs are `Graphics & Design`, `Games`, `Book`, `Education`, and `Music`.\n",
    "\n",
    "**6. Ratio of Free to Paid Apps:**\n",
    "   - The ratio of free to paid apps in the dataset is `10.95`.\n",
    "\n",
    "**7. Total Percentage of Free Apps in Dataset:**\n",
    "   - The total percentage of free apps in the dataset is `91.63%`.\n"
   ]
  },
  {
   "cell_type": "markdown",
   "metadata": {},
   "source": [
    "# **Credits:** **🦸‍♂️ Mudasir Ali**\n",
    "**Contact:** \\\n",
    "Email: chmudasir9990@gmail.com\\\n",
    "LinkedIn: https://www.linkedin.com/in/mudasir-ali-0bb999246?utm_source=share&utm_campaign=share_via&utm_content=profile&utm_medium=android_app\\\n",
    "GitHub : https://github.com/mudasir8187\\\n",
    "What's app: 03106248187"
   ]
  }
 ],
 "metadata": {
  "kernelspec": {
   "display_name": "eda_env",
   "language": "python",
   "name": "python3"
  },
  "language_info": {
   "codemirror_mode": {
    "name": "ipython",
    "version": 3
   },
   "file_extension": ".py",
   "mimetype": "text/x-python",
   "name": "python",
   "nbconvert_exporter": "python",
   "pygments_lexer": "ipython3",
   "version": "3.10.13"
  }
 },
 "nbformat": 4,
 "nbformat_minor": 2
}
